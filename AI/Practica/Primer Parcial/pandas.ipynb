{
 "cells": [
  {
   "cell_type": "markdown",
   "metadata": {},
   "source": [
    "1. Importacion de librerias\n",
    "2. Carga de datasets\n",
    "3. Lectura de datasets en xlsx y transformacion a dataframe\n",
    "4. Analisis de dataframe\n",
    "5. Borrado de filas y/o columnas\n",
    "6. Visualizacion de estadisticas generales\n",
    "7. Manejo de loc e iloc para identificar posicion de filas y /o columnas\n",
    "8. Utilizacion de filtros para responder preguntas sobre el dataframe\n",
    "9. Lee el archivo csv StudentsPerformace usando pandas. Guardalo en una variable llamada students.\n",
    "10. ¿Que tipo de estructura de datos contiene la variable students? Hint: Usa type\n",
    "11. ¿Cuantas filas y columnas tiene students? Para contestar esta pregunta, pandas tiene la funcion .shape.\n",
    "Su sintaxis es la siguiente: df.shape (df debe ser reemplazado por el nombre de tu DataFrame)\n",
    "12. ¿Cual es el nombre de las columnas contenidas en students? Para esto, pandas tiene el atributo.columns.\n",
    "13. Inspecciona las primeras 10 filas de students usando la función .head(). Dentro de esta función podemos\n",
    "colocar un numero. Este numero nos dira cuantas filas queremos observar.\n",
    "14. Ahora inspecciona las 10 ultimas usando .tail(). También podemos indicar el número de filas que\n",
    "queremos observar.\n",
    "15. ¿Que tipos de datos contiene cada una de las columnas de students? Para esto, utiliza el atributo\n",
    ".dtypes.\n",
    "16. ¿Como accedemos a una fila o a una columa de un DataFrame?\n",
    "17. Otra manera de acceder es usando dos funciones .loc[] y .iloc[].\n",
    "\n",
    "    1. iloc[1:m, 1:n]: Se usa para seleccionar filas basadas en su posición de 1 a m filas y de 1 a n columnas.\n",
    "\n",
    "    2.  .loc[[nombre_fila], [nombre_columna]]. Se usa para seleccionar filas o columnas basadas en su nombre\n",
    "\n",
    "18. Utiliza la sintaxis df['col1'] > 10 para crear una máscara booleana.\n",
    "\n",
    "19. Utiliza la función .isnull() en un DataFrame para identificar los valores faltantes.\n",
    "\n",
    "20. Utiliza las funciones propias de pandas (metricas) en cada columna\n",
    "\n",
    "21. Con el data set “titanic.csv” realizar los siguientes gráficos:\n",
    "    1.\tGráfico de columnas que muestre la cantidad de pasajeros por grupo etario (10 en 10)\n",
    "    2.\tGráfico de columnas que muestre la cantidad de sobrevivientes por grupo etario (10 en 10)\n",
    "    3.\tGráfico de columnas que muestre la cantidad de no sobrevivientes por grupo etario (10 en 10)\n",
    "\n",
    "22. Importar el archivo Ventas.xlsx y realizar los siguientes cálculos:\n",
    "    1. Para los valores nulos de ventas, poner el valor del promedio de ventas totales.\n",
    "    2. Calcular la suma de monto de ventas y la cantidad de operaciones agrupado por cliente.\n",
    "\n",
    "23. Añadir una columna al Data Frame que contenga el primer nombre del cliente.\n",
    "\n",
    "24. Añadir una columna al Data Frame que contenga las dos primeras letras del nombre\n",
    "\n",
    "25. Importar el archivo \"GoldPrice.csv\" y realizar los siguientes cálculos:\n",
    "\n",
    "    Determinar el promedio de precios por año.\n",
    "\n",
    "    Calcular el año con mayor promedio y el año con menor promedio.\n",
    "\n",
    "    Devolver los resultados bajo el formato:\n",
    "\n",
    "    Mayor precio promedio Año:xxx Precio:xxxx\n",
    "\n",
    "    Menor precio promedio Año:xxxx Precio: xxxx"
   ]
  },
  {
   "cell_type": "code",
   "execution_count": 1,
   "metadata": {},
   "outputs": [],
   "source": [
    "import pandas as pd"
   ]
  },
  {
   "cell_type": "code",
   "execution_count": 3,
   "metadata": {},
   "outputs": [
    {
     "name": "stdout",
     "output_type": "stream",
     "text": [
      "Age\n",
      "1.0    1\n",
      "2.0    2\n",
      "4.0    1\n",
      "dtype: int64\n"
     ]
    }
   ],
   "source": [
    "# Crear un DataFrame de ejemplo \n",
    "data = {'Name': ['Alice', 'Bob', 'Charlie', 'David', 'Eva'], 'Age': [23, 45, 10, None, 28]} \n",
    "\n",
    "df = pd.DataFrame(data) \n",
    "# Agrupar por rango de edad (décadas) y contar el tamaño de cada grupo \n",
    "\n",
    "grouped = df.groupby(df[\"Age\"] // 10).size() \n",
    "\n",
    "print(grouped)"
   ]
  },
  {
   "cell_type": "code",
   "execution_count": 4,
   "metadata": {},
   "outputs": [
    {
     "data": {
      "image/png": "[encoded data removed]",
      "text/plain": [
       "<Figure size 640x480 with 1 Axes>"
      ]
     },
     "metadata": {},
     "output_type": "display_data"
    }
   ],
   "source": [
    "grouped = df.groupby(df[\"Age\"] // 10).size().plot.bar()"
   ]
  },
  {
   "cell_type": "code",
   "execution_count": 7,
   "metadata": {},
   "outputs": [
    {
     "name": "stdout",
     "output_type": "stream",
     "text": [
      "<class 'pandas.core.series.Series'>\n"
     ]
    }
   ],
   "source": [
    "print(type(df.groupby(df[\"Age\"] // 10).size()))"
   ]
  },
  {
   "cell_type": "code",
   "execution_count": null,
   "metadata": {},
   "outputs": [],
   "source": []
  }
 ],
 "metadata": {
  "kernelspec": {
   "display_name": "venv",
   "language": "python",
   "name": "python3"
  },
  "language_info": {
   "codemirror_mode": {
    "name": "ipython",
    "version": 3
   },
   "file_extension": ".py",
   "mimetype": "text/x-python",
   "name": "python",
   "nbconvert_exporter": "python",
   "pygments_lexer": "ipython3",
   "version": "3.12.6"
  }
 },
 "nbformat": 4,
 "nbformat_minor": 2
}

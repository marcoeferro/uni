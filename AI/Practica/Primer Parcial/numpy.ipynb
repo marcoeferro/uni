{
 "cells": [
  {
   "cell_type": "markdown",
   "metadata": {},
   "source": [
    "1. Contruir arrays a partir de una lsita simple y una lista anidad usando tipos de datos nuemricos distintos para cada una\n",
    "2. Contruir uan matriz 4x5 a partr de una lista anidad y numeros aleatorios\n",
    "3. Contruir un array lineal de 36 elementos. Cambiar el shape para que tenga\n",
    "    - 3 filas y 12 columnas\n",
    "    - 4 columnas\n",
    "    - dimensión 4\n",
    "4. Dado un array de enteros de shape (4, 6) seleccionar:\n",
    "    - El primer elemento de la primer fila\n",
    "    - La segunda fila\n",
    "    - La cuarta columna\n",
    "    - Los elementos mayores a 7 (u otra condición a elección)\n",
    "5. Al mismo array asignarle el valor 100 al último elemento de la última fila\n",
    "6. Asignarle 0 a la quinta columna\n",
    "7. Calcular los cubos de los primero 15 naturales\n",
    "8. Sumar la matriz identidad a una matriz llena de unos\n",
    "9. Hacer una función que calcule grados Farhenheit a partir de un array con grados Celsius\n",
    "10. Hacer una función que tome dos arrays (peso y altura) y calcule el indice de masa corporal\n",
    "11. Crear una matriz de  4x5 llena de ceros. Sumar 10 a la tercera columna usando broadcasting\n",
    "12. Encontrar los elementos de un array que son menores a los logaritmos al cuadrado de los elementos de otro array\n",
    "13. "
   ]
  },
  {
   "cell_type": "code",
   "execution_count": 2,
   "metadata": {},
   "outputs": [],
   "source": [
    "import numpy as np"
   ]
  },
  {
   "cell_type": "code",
   "execution_count": null,
   "metadata": {},
   "outputs": [],
   "source": [
    "#  1. \n",
    "array = np.array([1,2,3,4,5,6,7,8,9,10,11,12])"
   ]
  }
 ],
 "metadata": {
  "kernelspec": {
   "display_name": "venv",
   "language": "python",
   "name": "python3"
  },
  "language_info": {
   "codemirror_mode": {
    "name": "ipython",
    "version": 3
   },
   "file_extension": ".py",
   "mimetype": "text/x-python",
   "name": "python",
   "nbconvert_exporter": "python",
   "pygments_lexer": "ipython3",
   "version": "3.12.6"
  }
 },
 "nbformat": 4,
 "nbformat_minor": 2
}

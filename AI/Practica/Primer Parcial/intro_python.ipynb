{
 "cells": [
  {
   "cell_type": "markdown",
   "metadata": {},
   "source": [
    "1. Promedio de una lista de elementos\n",
    "\n",
    "2. Dada 2 listas entoncrar los elementos e comun (solo deben apareces uan vez)\n",
    "\n",
    "3. Dada 2 listas contar cuantas vecesaparecen en una de ellas los elementos en comun \n",
    "\n",
    "4. Crear una lista con los primeros 10 multiplos de 5\n",
    "\n",
    "5. Dadas dos listas, crear otra que tenga los elementos que están en la primera y que no están en la segunda:\n",
    "\n",
    "    1. Usando bucles tradicionales\n",
    "    2. Usando listas por comprensión\n",
    "\n",
    "    Cada elemento debe aparecer tantas veces como en la lista original\n",
    "\n",
    "6. Dada una lista de números encontrar el promedio de los que sean pares:\n",
    "\n",
    "    1. Usando solamente estructuras de control\n",
    "    2. Usando listas por comprensión y funciones incorporadas\n",
    "\n",
    "7. Construir una función que dado un iterable,devuelva un diccionario con las frecuencias de sus elementos.\n",
    "\n",
    "8. Construir una función que se llame suma_acotados. Esta función debe tomar un número arbitrario de argumentos posicionales y un keyword argument llamado cota que por defecto debe tener el valor None. Si el argumento cota es None, debe sumar todos los números, si no debe sumar los números que se encuentren entre –cota y cota.\n",
    "\n",
    "9. También es posible manejar un número  arbitrario de keyword arguments. Para eso  se utiliza el operador ** (usualmente asociado  al nombre kwargs). Este operador captura  cualquier keyword argument que no haya sido  deﬁnido junto con la función.\n",
    "Los argumentos capturados por este operador  son almacenados en un diccionario que tiene  como claves los strings que representan los  nombres de los argumentos y como valor lo  que se le haya pasado al argumento.\n",
    "Este operador debe ir al ﬁnal de la deﬁnición  de los parámetros.\n",
    "\n",
    "10. Crear una función que dado un string cree una tupla con el string y la cantidad de caracteres del string. Luego, dada una lista de strings, crear otra lista con el resultado de aplicar la función a cada string:\n",
    "\n",
    "    * Usando bucles\n",
    "    * Usando listas por comprensión\n",
    "    * Usando la función map\n",
    "\n",
    "11. Dada una lista de números usar filter para seleccionar los números que estén en el rango [8,20] y sean pares.\n",
    "\n",
    "12. Construir una función que dado un iterable,devuelva un diccionario con las frecuencias de sus elementos.\n",
    "\n",
    "13. Construir una función que se llame suma_acotados. Esta función debe tomar un número arbitrario de argumentos posicionales y un keyword argument llamado cota que por defecto debe tener el valor None. Si el argumento cota es None, debe sumar todos los números, si no debe sumar los números que se encuentren entre –cota y cota.\n",
    "\n",
    "14. También es posible manejar un número  arbitrario de keyword arguments. Para eso  se utiliza el operador ** (usualmente asociado  al nombre kwargs). Este operador captura  cualquier keyword argument que no haya sido  deﬁnido junto con la función.\n",
    "Los argumentos capturados por este operador  son almacenados en un diccionario que tiene  como claves los strings que representan los  nombres de los argumentos y como valor lo  que se le haya pasado al argumento.\n",
    "Este operador debe ir al ﬁnal de la deﬁnición  de los parámetros.\n",
    "\n",
    "15. Crear una función que dado un string cree una tupla con el string y la cantidad de caracteres del string. Luego, dada una lista de strings, crear otra lista con el resultado de aplicar la función a cada string:\n",
    "\n",
    "    * Usando bucles\n",
    "    * Usando listas por comprensión\n",
    "    * Usando la función map\n",
    "\n",
    "16. Dada una lista de números usar filter para seleccionar los números que estén en el rango [8,20] y sean pares.\n"
   ]
  },
  {
   "cell_type": "code",
   "execution_count": null,
   "metadata": {},
   "outputs": [],
   "source": []
  }
 ],
 "metadata": {
  "language_info": {
   "name": "python"
  }
 },
 "nbformat": 4,
 "nbformat_minor": 2
}

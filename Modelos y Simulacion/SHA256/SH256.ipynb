{
 "cells": [
  {
   "cell_type": "code",
   "execution_count": 17,
   "metadata": {},
   "outputs": [],
   "source": [
    "import struct"
   ]
  },
  {
   "cell_type": "code",
   "execution_count": 18,
   "metadata": {},
   "outputs": [],
   "source": [
    "# Constantes SHA-256\n",
    "K = [\n",
    "    0x428a2f98, 0x71374491, 0xb5c0fbcf, 0xe9b5dba5, 0x3956c25b, 0x59f111f1, 0x923f82a4, 0xab1c5ed5,\n",
    "    0xd807aa98, 0x12835b01, 0x243185be, 0x550c7dc3, 0x72be5d74, 0x80deb1fe, 0x9bdc06a7, 0xc19bf174,\n",
    "    0xe49b69c1, 0xefbe4786, 0x0fc19dc6, 0x240ca1cc, 0x2de92c6f, 0x4a7484aa, 0x5cb0a9dc, 0x76f988da,\n",
    "    0x983e5152, 0xa831c66d, 0xb00327c8, 0xbf597fc7, 0xc6e00bf3, 0xd5a79147, 0x06ca6351, 0x14292967,\n",
    "    0x27b70a85, 0x2e1b2138, 0x4d2c6dfc, 0x53380d13, 0x650a7354, 0x766a0abb, 0x81c2c92e, 0x92722c85,\n",
    "    0xa2bfe8a1, 0xa81a664b, 0xc24b8b70, 0xc76c51a3, 0xd192e819, 0xd6990624, 0xf40e3585, 0x106aa070,\n",
    "    0x19a4c116, 0x1e376c08, 0x2748774c, 0x34b0bcb5, 0x391c0cb3, 0x4ed8aa4a, 0x5b9cca4f, 0x682e6ff3,\n",
    "    0x748f82ee, 0x78a5636f, 0x84c87814, 0x8cc70208, 0x90befffa, 0xa4506ceb, 0xbef9a3f7, 0xc67178f2\n",
    "]"
   ]
  },
  {
   "cell_type": "code",
   "execution_count": 19,
   "metadata": {},
   "outputs": [],
   "source": [
    "# Funciones auxiliares\n",
    "def rotr(x, n, w=32):\n",
    "    return (x >> n) | ((x << (w - n)) & (2**w - 1))\n",
    "\n",
    "def sha256_compress(chunk, H):\n",
    "    # Extender los bloques\n",
    "    W = list(struct.unpack(\">16L\", chunk)) + [0] * 48\n",
    "    for t in range(16, 64):\n",
    "        s0 = rotr(W[t - 15], 7) ^ rotr(W[t - 15], 18) ^ (W[t - 15] >> 3)\n",
    "        s1 = rotr(W[t - 2], 17) ^ rotr(W[t - 2], 19) ^ (W[t - 2] >> 10)\n",
    "        W[t] = (W[t - 16] + s0 + W[t - 7] + s1) & 0xFFFFFFFF\n",
    "\n",
    "    # Inicializar variables\n",
    "    a, b, c, d, e, f, g, h = H\n",
    "\n",
    "    # Rondas de compresión\n",
    "    for t in range(64):\n",
    "        S1 = rotr(e, 6) ^ rotr(e, 11) ^ rotr(e, 25)\n",
    "        ch = (e & f) ^ (~e & g)\n",
    "        temp1 = (h + S1 + ch + K[t] + W[t]) & 0xFFFFFFFF\n",
    "        S0 = rotr(a, 2) ^ rotr(a, 13) ^ rotr(a, 22)\n",
    "        maj = (a & b) ^ (a & c) ^ (b & c)\n",
    "        temp2 = (S0 + maj) & 0xFFFFFFFF\n",
    "        h = g\n",
    "        g = f\n",
    "        f = e\n",
    "        e = (d + temp1) & 0xFFFFFFFF\n",
    "        d = c\n",
    "        c = b\n",
    "        b = a\n",
    "        a = (temp1 + temp2) & 0xFFFFFFFF\n",
    "\n",
    "    # Actualizar valores de hash\n",
    "    return [\n",
    "        (H[0] + a) & 0xFFFFFFFF,\n",
    "        (H[1] + b) & 0xFFFFFFFF,\n",
    "        (H[2] + c) & 0xFFFFFFFF,\n",
    "        (H[3] + d) & 0xFFFFFFFF,\n",
    "        (H[4] + e) & 0xFFFFFFFF,\n",
    "        (H[5] + f) & 0xFFFFFFFF,\n",
    "        (H[6] + g) & 0xFFFFFFFF,\n",
    "        (H[7] + h) & 0xFFFFFFFF,\n",
    "    ]"
   ]
  },
  {
   "cell_type": "code",
   "execution_count": 20,
   "metadata": {},
   "outputs": [],
   "source": [
    "# Preprocesamiento\n",
    "def sha256_padding(message):\n",
    "    message_bytes = bytearray(message, 'ascii')\n",
    "    original_length = len(message_bytes) * 8\n",
    "    message_bytes.append(0x80)\n",
    "    while len(message_bytes) % 64 != 56:\n",
    "        message_bytes.append(0)\n",
    "    message_bytes += struct.pack(\">Q\", original_length)\n",
    "    return message_bytes\n",
    "\n"
   ]
  },
  {
   "cell_type": "code",
   "execution_count": 21,
   "metadata": {},
   "outputs": [
    {
     "name": "stdout",
     "output_type": "stream",
     "text": [
      "Hash SHA-256: ba7816bf8f01cfea414140de5dae2223b00361a396177a9cb410ff61f20015ad\n"
     ]
    }
   ],
   "source": [
    "# Algoritmo SHA-256\n",
    "def sha256(message):\n",
    "    H = [\n",
    "        0x6a09e667, 0xbb67ae85, 0x3c6ef372, 0xa54ff53a,\n",
    "        0x510e527f, 0x9b05688c, 0x1f83d9ab, 0x5be0cd19,\n",
    "    ]\n",
    "    padded_message = sha256_padding(message)\n",
    "    for i in range(0, len(padded_message), 64):\n",
    "        chunk = padded_message[i:i + 64]\n",
    "        H = sha256_compress(chunk, H)\n",
    "    return ''.join(f'{x:08x}' for x in H)\n",
    "\n",
    "# Prueba del algoritmo\n",
    "mensaje = \"abc\"\n",
    "print(\"Hash SHA-256:\", sha256(mensaje))"
   ]
  },
  {
   "cell_type": "markdown",
   "metadata": {},
   "source": [
    "# Verificar Algoritmo"
   ]
  },
  {
   "cell_type": "code",
   "execution_count": 22,
   "metadata": {},
   "outputs": [],
   "source": [
    "import hashlib\n",
    "from sha256 import sha256"
   ]
  },
  {
   "cell_type": "code",
   "execution_count": 23,
   "metadata": {},
   "outputs": [],
   "source": [
    "\n",
    "def calculate_sha256_hash(message):\n",
    "    \"\"\"\n",
    "    Calcula el hash SHA-256 de un mensaje utilizando la librería hashlib.\n",
    "    \"\"\"\n",
    "    # Convertir el mensaje a bytes\n",
    "    message_bytes = message.encode('utf-8')\n",
    "    # Crear el objeto hash\n",
    "    sha256_hash = hashlib.sha256()\n",
    "    # Alimentar el mensaje al objeto hash\n",
    "    sha256_hash.update(message_bytes)\n",
    "    # Obtener el hash final en formato hexadecimal\n",
    "    return sha256_hash.hexdigest()"
   ]
  },
  {
   "cell_type": "code",
   "execution_count": 24,
   "metadata": {},
   "outputs": [
    {
     "name": "stdout",
     "output_type": "stream",
     "text": [
      "Mensaje: abc\n",
      "Hash SHA-256: ba7816bf8f01cfea414140de5dae2223b00361a396177a9cb410ff61f20015ad\n",
      "Hash esperado: ba7816bf8f01cfea414140de5dae2223b00361a396177a9cb410ff61f20015ad\n",
      "¿El hash coincide?: Sí\n"
     ]
    }
   ],
   "source": [
    "# Mensaje de ejemplo\n",
    "mensaje = \"abc\"\n",
    "\n",
    "# Calcular hash con hashlib\n",
    "hash_resultado = calculate_sha256_hash(mensaje)\n",
    "\n",
    "# Imprimir resultado\n",
    "print(f\"Mensaje: {mensaje}\")\n",
    "print(f\"Hash SHA-256: {hash_resultado}\")\n",
    "\n",
    "# Hash esperado para \"abc\" (verificado en estándares y herramientas externas)\n",
    "hash_esperado = sha256(mensaje)\n",
    "print(f\"Hash esperado: {hash_esperado}\")\n",
    "print(f\"¿El hash coincide?: {'Sí' if hash_resultado == hash_esperado else 'No'}\")"
   ]
  },
  {
   "cell_type": "code",
   "execution_count": 25,
   "metadata": {},
   "outputs": [],
   "source": [
    "from utils import run_sha256_multiple_times"
   ]
  },
  {
   "cell_type": "code",
   "execution_count": 26,
   "metadata": {},
   "outputs": [
    {
     "name": "stdout",
     "output_type": "stream",
     "text": [
      "Resultados de la implementacion guardados en sha256_data.csv\n",
      "Resultados de la libreria guardados en sha256_data.csv\n"
     ]
    }
   ],
   "source": [
    "# Ejemplo de uso\n",
    "mensaje = [\"abc\"]*30\n",
    "csv_file = \"sha256_data.csv\"\n",
    "run_sha256_multiple_times(messages=mensaje, csv_file=csv_file,tipo=\"implementacion\",func=sha256)\n",
    "print(f\"Resultados de la implementacion guardados en {csv_file}\")\n",
    "\n",
    "mensaje = [\"abc\"]*30\n",
    "csv_file = \"sha256_data.csv\"\n",
    "run_sha256_multiple_times(messages=mensaje, csv_file=csv_file,tipo=\"libreria\",func=calculate_sha256_hash)\n",
    "print(f\"Resultados de la libreria guardados en {csv_file}\")"
   ]
  },
  {
   "cell_type": "code",
   "execution_count": 27,
   "metadata": {},
   "outputs": [],
   "source": [
    "import pandas as pd "
   ]
  },
  {
   "cell_type": "code",
   "execution_count": 28,
   "metadata": {},
   "outputs": [],
   "source": [
    "df = pd.read_csv('sha256_data.csv')"
   ]
  },
  {
   "cell_type": "code",
   "execution_count": 29,
   "metadata": {},
   "outputs": [
    {
     "data": {
      "text/html": [
       "<div>\n",
       "<style scoped>\n",
       "    .dataframe tbody tr th:only-of-type {\n",
       "        vertical-align: middle;\n",
       "    }\n",
       "\n",
       "    .dataframe tbody tr th {\n",
       "        vertical-align: top;\n",
       "    }\n",
       "\n",
       "    .dataframe thead th {\n",
       "        text-align: right;\n",
       "    }\n",
       "</style>\n",
       "<table border=\"1\" class=\"dataframe\">\n",
       "  <thead>\n",
       "    <tr style=\"text-align: right;\">\n",
       "      <th></th>\n",
       "      <th>tipo</th>\n",
       "      <th>mensaje</th>\n",
       "      <th>hash</th>\n",
       "      <th>tiempo_ejecucion (s)</th>\n",
       "    </tr>\n",
       "  </thead>\n",
       "  <tbody>\n",
       "    <tr>\n",
       "      <th>0</th>\n",
       "      <td>implementacion</td>\n",
       "      <td>abc</td>\n",
       "      <td>ba7816bf8f01cfea414140de5dae2223b00361a396177a...</td>\n",
       "      <td>0.000445</td>\n",
       "    </tr>\n",
       "    <tr>\n",
       "      <th>1</th>\n",
       "      <td>implementacion</td>\n",
       "      <td>abc</td>\n",
       "      <td>ba7816bf8f01cfea414140de5dae2223b00361a396177a...</td>\n",
       "      <td>0.000441</td>\n",
       "    </tr>\n",
       "    <tr>\n",
       "      <th>2</th>\n",
       "      <td>implementacion</td>\n",
       "      <td>abc</td>\n",
       "      <td>ba7816bf8f01cfea414140de5dae2223b00361a396177a...</td>\n",
       "      <td>0.000424</td>\n",
       "    </tr>\n",
       "    <tr>\n",
       "      <th>3</th>\n",
       "      <td>implementacion</td>\n",
       "      <td>abc</td>\n",
       "      <td>ba7816bf8f01cfea414140de5dae2223b00361a396177a...</td>\n",
       "      <td>0.000402</td>\n",
       "    </tr>\n",
       "    <tr>\n",
       "      <th>4</th>\n",
       "      <td>implementacion</td>\n",
       "      <td>abc</td>\n",
       "      <td>ba7816bf8f01cfea414140de5dae2223b00361a396177a...</td>\n",
       "      <td>0.000446</td>\n",
       "    </tr>\n",
       "  </tbody>\n",
       "</table>\n",
       "</div>"
      ],
      "text/plain": [
       "             tipo mensaje                                               hash  \\\n",
       "0  implementacion     abc  ba7816bf8f01cfea414140de5dae2223b00361a396177a...   \n",
       "1  implementacion     abc  ba7816bf8f01cfea414140de5dae2223b00361a396177a...   \n",
       "2  implementacion     abc  ba7816bf8f01cfea414140de5dae2223b00361a396177a...   \n",
       "3  implementacion     abc  ba7816bf8f01cfea414140de5dae2223b00361a396177a...   \n",
       "4  implementacion     abc  ba7816bf8f01cfea414140de5dae2223b00361a396177a...   \n",
       "\n",
       "   tiempo_ejecucion (s)  \n",
       "0              0.000445  \n",
       "1              0.000441  \n",
       "2              0.000424  \n",
       "3              0.000402  \n",
       "4              0.000446  "
      ]
     },
     "execution_count": 29,
     "metadata": {},
     "output_type": "execute_result"
    }
   ],
   "source": [
    "df.head()"
   ]
  },
  {
   "cell_type": "code",
   "execution_count": 31,
   "metadata": {},
   "outputs": [
    {
     "data": {
      "text/html": [
       "<div>\n",
       "<style scoped>\n",
       "    .dataframe tbody tr th:only-of-type {\n",
       "        vertical-align: middle;\n",
       "    }\n",
       "\n",
       "    .dataframe tbody tr th {\n",
       "        vertical-align: top;\n",
       "    }\n",
       "\n",
       "    .dataframe thead th {\n",
       "        text-align: right;\n",
       "    }\n",
       "</style>\n",
       "<table border=\"1\" class=\"dataframe\">\n",
       "  <thead>\n",
       "    <tr style=\"text-align: right;\">\n",
       "      <th></th>\n",
       "      <th>tiempo_ejecucion</th>\n",
       "    </tr>\n",
       "    <tr>\n",
       "      <th>tipo</th>\n",
       "      <th></th>\n",
       "    </tr>\n",
       "  </thead>\n",
       "  <tbody>\n",
       "    <tr>\n",
       "      <th>implementacion</th>\n",
       "      <td>0.000478</td>\n",
       "    </tr>\n",
       "    <tr>\n",
       "      <th>libreria</th>\n",
       "      <td>0.000017</td>\n",
       "    </tr>\n",
       "  </tbody>\n",
       "</table>\n",
       "</div>"
      ],
      "text/plain": [
       "                tiempo_ejecucion\n",
       "tipo                            \n",
       "implementacion          0.000478\n",
       "libreria                0.000017"
      ]
     },
     "execution_count": 31,
     "metadata": {},
     "output_type": "execute_result"
    }
   ],
   "source": [
    "conclusion = df.groupby(\"tipo\").agg(tiempo_ejecucion=('tiempo_ejecucion (s)','mean'))\n",
    "conclusion.head()"
   ]
  },
  {
   "cell_type": "code",
   "execution_count": 35,
   "metadata": {},
   "outputs": [
    {
     "name": "stdout",
     "output_type": "stream",
     "text": [
      "La libreria es 96.42% más rápida.\n"
     ]
    }
   ],
   "source": [
    "# Cálculo del porcentaje y tipo más rápido\n",
    "tiempo_libreria = conclusion.loc[\"libreria\", \"tiempo_ejecucion\"]\n",
    "tiempo_implementacion = conclusion.loc[\"implementacion\", \"tiempo_ejecucion\"]\n",
    "\n",
    "if tiempo_libreria < tiempo_implementacion:\n",
    "    porcentaje = (1 - tiempo_libreria / tiempo_implementacion) * 100\n",
    "    tipo = \"libreria\"\n",
    "else:\n",
    "    porcentaje = (1 - tiempo_implementacion / tiempo_libreria) * 100\n",
    "    tipo = \"implementacion\"\n",
    "\n",
    "# Impresión del resultado\n",
    "print(f\"La {tipo} es {porcentaje:.2f}% más rápida.\")\n"
   ]
  },
  {
   "cell_type": "markdown",
   "metadata": {},
   "source": [
    "# Explicacion del Codigo"
   ]
  },
  {
   "cell_type": "markdown",
   "metadata": {},
   "source": [
    "### Explicación del Código: Implementación del Algoritmo SHA-256\n",
    "\n",
    "El código implementa una versión simplificada del algoritmo **SHA-256**, que es un algoritmo de hash criptográfico ampliamente utilizado. A continuación, se desglosan sus componentes principales:\n",
    "\n",
    "---\n",
    "\n",
    "#### 1. **Constantes SHA-256**\n",
    "```python\n",
    "K = [...]\n",
    "```\n",
    "Estas son constantes específicas del estándar SHA-256 (definidas en la RFC 6234). Se utilizan durante las rondas de compresión y derivan de las raíces cúbicas de números primos.\n",
    "\n",
    "---\n",
    "\n",
    "#### 2. **Funciones Auxiliares**\n",
    "```python\n",
    "def rotr(x, n, w=32):\n",
    "    return (x >> n) | ((x << (w - n)) & (2**w - 1))\n",
    "```\n",
    "- `rotr` (rotate right): Realiza una rotación hacia la derecha en un número de 32 bits (`x`).\n",
    "- La rotación se utiliza en varias funciones internas de SHA-256 para mezclar bits.\n",
    "\n",
    "---\n",
    "\n",
    "#### 3. **Extensión de Bloques y Compresión**\n",
    "##### 3.1 **Extensión de Mensajes**\n",
    "```python\n",
    "W = list(struct.unpack(\">16L\", chunk)) + [0] * 48\n",
    "for t in range(16, 64):\n",
    "    s0 = rotr(W[t - 15], 7) ^ rotr(W[t - 15], 18) ^ (W[t - 15] >> 3)\n",
    "    s1 = rotr(W[t - 2], 17) ^ rotr(W[t - 2], 19) ^ (W[t - 2] >> 10)\n",
    "    W[t] = (W[t - 16] + s0 + W[t - 7] + s1) & 0xFFFFFFFF\n",
    "```\n",
    "- **W**: Se extiende un bloque de 512 bits (64 bytes) a 64 palabras de 32 bits.\n",
    "- Se utilizan operaciones de rotación y desplazamiento para crear una expansión no lineal de los datos.\n",
    "\n",
    "##### 3.2 **Rondas de Compresión**\n",
    "```python\n",
    "for t in range(64):\n",
    "    S1 = rotr(e, 6) ^ rotr(e, 11) ^ rotr(e, 25)\n",
    "    ch = (e & f) ^ (~e & g)\n",
    "    temp1 = (h + S1 + ch + K[t] + W[t]) & 0xFFFFFFFF\n",
    "    S0 = rotr(a, 2) ^ rotr(a, 13) ^ rotr(a, 22)\n",
    "    maj = (a & b) ^ (a & c) ^ (b & c)\n",
    "    temp2 = (S0 + maj) & 0xFFFFFFFF\n",
    "    # Actualización de variables\n",
    "    h = g\n",
    "    g = f\n",
    "    f = e\n",
    "    e = (d + temp1) & 0xFFFFFFFF\n",
    "    d = c\n",
    "    c = b\n",
    "    b = a\n",
    "    a = (temp1 + temp2) & 0xFFFFFFFF\n",
    "```\n",
    "- Se realizan **64 rondas** de compresión:\n",
    "  - `S1`, `S0`: Operaciones de mezcla de bits mediante rotaciones.\n",
    "  - `ch` (choose): Selección basada en los valores de los bits de `e`, `f`, `g`.\n",
    "  - `maj` (majority): Selección basada en la mayoría de los bits de `a`, `b`, `c`.\n",
    "  - `temp1` y `temp2`: Actualizan las variables hash intermedias.\n",
    "- **Objetivo**: Mezclar los valores iniciales con los datos del mensaje para garantizar una salida no reversible.\n",
    "\n",
    "##### 3.3 **Actualización del Hash**\n",
    "```python\n",
    "return [\n",
    "    (H[0] + a) & 0xFFFFFFFF,\n",
    "    ...\n",
    "    (H[7] + h) & 0xFFFFFFFF,\n",
    "]\n",
    "```\n",
    "Después de las rondas, se combinan los valores intermedios con el hash inicial.\n",
    "\n",
    "---\n",
    "\n",
    "#### 4. **Preprocesamiento**\n",
    "```python\n",
    "def sha256_padding(message):\n",
    "    message_bytes = bytearray(message, 'ascii')\n",
    "    original_length = len(message_bytes) * 8\n",
    "    message_bytes.append(0x80)\n",
    "    while len(message_bytes) % 64 != 56:\n",
    "        message_bytes.append(0)\n",
    "    message_bytes += struct.pack(\">Q\", original_length)\n",
    "    return message_bytes\n",
    "```\n",
    "El mensaje se procesa para cumplir los requisitos de entrada de SHA-256:\n",
    "1. Se añade un bit `1` al final del mensaje.\n",
    "2. Se rellenan ceros hasta que la longitud sea un múltiplo de 512 bits menos 64 bits.\n",
    "3. Se añaden los 64 bits finales que representan la longitud original del mensaje.\n",
    "\n",
    "---\n",
    "\n",
    "#### 5. **Algoritmo Principal**\n",
    "```python\n",
    "def sha256(message):\n",
    "    H = [\n",
    "        0x6a09e667, 0xbb67ae85, 0x3c6ef372, 0xa54ff53a,\n",
    "        0x510e527f, 0x9b05688c, 0x1f83d9ab, 0x5be0cd19,\n",
    "    ]\n",
    "    padded_message = sha256_padding(message)\n",
    "    for i in range(0, len(padded_message), 64):\n",
    "        chunk = padded_message[i:i + 64]\n",
    "        H = sha256_compress(chunk, H)\n",
    "    return ''.join(f'{x:08x}' for x in H)\n",
    "```\n",
    "1. **Inicialización**:\n",
    "   - Se definen valores hash iniciales (`H`), derivados de las raíces cuadradas de números primos.\n",
    "2. **Preprocesamiento**:\n",
    "   - El mensaje se ajusta para cumplir con las especificaciones de SHA-256.\n",
    "3. **Procesamiento por Bloques**:\n",
    "   - El mensaje se divide en bloques de 512 bits.\n",
    "   - Cada bloque se comprime con `sha256_compress`.\n",
    "4. **Generación del Hash**:\n",
    "   - Se convierte el valor final de `H` en una cadena hexadecimal de 64 caracteres (256 bits).\n",
    "\n",
    "---\n",
    "\n",
    "### Resumen\n",
    "- **SHA-256** procesa mensajes en bloques de 512 bits, mezclándolos con valores iniciales fijos.\n",
    "- Utiliza operaciones no lineales (rotaciones, desplazamientos) y combinaciones booleanas para garantizar un hash único.\n",
    "- Este código implementa el algoritmo paso a paso siguiendo las especificaciones del estándar."
   ]
  },
  {
   "cell_type": "markdown",
   "metadata": {},
   "source": [
    "COMPARAR EL QE HICE CON EL DE LA BIBLIOTECA"
   ]
  },
  {
   "cell_type": "markdown",
   "metadata": {},
   "source": []
  }
 ],
 "metadata": {
  "kernelspec": {
   "display_name": "venv",
   "language": "python",
   "name": "python3"
  },
  "language_info": {
   "codemirror_mode": {
    "name": "ipython",
    "version": 3
   },
   "file_extension": ".py",
   "mimetype": "text/x-python",
   "name": "python",
   "nbconvert_exporter": "python",
   "pygments_lexer": "ipython3",
   "version": "3.12.6"
  }
 },
 "nbformat": 4,
 "nbformat_minor": 2
}
